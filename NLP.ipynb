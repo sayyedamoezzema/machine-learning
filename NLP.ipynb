{
 "cells": [
  {
   "cell_type": "code",
   "execution_count": 1,
   "id": "3a7e3f2c",
   "metadata": {},
   "outputs": [
    {
     "name": "stdout",
     "output_type": "stream",
     "text": [
      "MoviePy - Writing audio in D:\\PYTHON\\python2\\NLP_file.wav\n"
     ]
    },
    {
     "name": "stderr",
     "output_type": "stream",
     "text": [
      "                                                                                                                       "
     ]
    },
    {
     "name": "stdout",
     "output_type": "stream",
     "text": [
      "MoviePy - Done.\n"
     ]
    },
    {
     "name": "stderr",
     "output_type": "stream",
     "text": [
      "\r"
     ]
    }
   ],
   "source": [
    "import moviepy.editor as mp\n",
    "clip = mp.VideoFileClip(r\"D:\\PYTHON\\python2\\NLP.mpg\")\n",
    "audio_clip = clip.audio.write_audiofile(r\"D:\\PYTHON\\python2\\NLP_file.wav\")"
   ]
  },
  {
   "cell_type": "code",
   "execution_count": 2,
   "id": "72b4c754",
   "metadata": {},
   "outputs": [
    {
     "name": "stdout",
     "output_type": "stream",
     "text": [
      "Requirement already satisfied: SpeechRecognition in c:\\users\\s.m.chishty\\anaconda3\\lib\\site-packages (3.9.0)Note: you may need to restart the kernel to use updated packages.\n",
      "\n",
      "Requirement already satisfied: requests>=2.26.0 in c:\\users\\s.m.chishty\\anaconda3\\lib\\site-packages (from SpeechRecognition) (2.28.1)\n",
      "Requirement already satisfied: idna<4,>=2.5 in c:\\users\\s.m.chishty\\anaconda3\\lib\\site-packages (from requests>=2.26.0->SpeechRecognition) (3.3)\n",
      "Requirement already satisfied: certifi>=2017.4.17 in c:\\users\\s.m.chishty\\anaconda3\\lib\\site-packages (from requests>=2.26.0->SpeechRecognition) (2022.9.14)\n",
      "Requirement already satisfied: urllib3<1.27,>=1.21.1 in c:\\users\\s.m.chishty\\anaconda3\\lib\\site-packages (from requests>=2.26.0->SpeechRecognition) (1.26.11)\n",
      "Requirement already satisfied: charset-normalizer<3,>=2 in c:\\users\\s.m.chishty\\anaconda3\\lib\\site-packages (from requests>=2.26.0->SpeechRecognition) (2.0.4)\n"
     ]
    }
   ],
   "source": [
    "pip install SpeechRecognition"
   ]
  },
  {
   "cell_type": "code",
   "execution_count": 3,
   "id": "41dcac9c",
   "metadata": {},
   "outputs": [
    {
     "name": "stdout",
     "output_type": "stream",
     "text": [
      "Requirement already satisfied: pydub in c:\\users\\s.m.chishty\\anaconda3\\lib\\site-packages (0.25.1)Note: you may need to restart the kernel to use updated packages.\n",
      "\n"
     ]
    }
   ],
   "source": [
    "pip install pydub"
   ]
  },
  {
   "cell_type": "code",
   "execution_count": 4,
   "id": "6c53c99d",
   "metadata": {},
   "outputs": [],
   "source": [
    "import os\n",
    "from pydub import AudioSegment\n",
    "from pydub.silence import split_on_silence\n",
    "import speech_recognition as sr\n",
    "r = sr.Recognizer()"
   ]
  },
  {
   "cell_type": "code",
   "execution_count": 5,
   "id": "4309ff80",
   "metadata": {},
   "outputs": [],
   "source": [
    "def get_large_audio_transcription(path):\n",
    "    \"\"\"\n",
    "    Splitting the large audio file into chunks\n",
    "    and apply speech recognition on each of these chunks\n",
    "    \"\"\"\n",
    "    # open the audio file using pydub\n",
    "    sound = AudioSegment.from_wav(path)  \n",
    "    # split audio sound where silence is 700 miliseconds or more and get chunks\n",
    "    chunks = split_on_silence(sound,\n",
    "        # experiment with this value for your target audio file\n",
    "        min_silence_len = 500,\n",
    "        # adjust this per requirement\n",
    "        silence_thresh = sound.dBFS-14,\n",
    "        # keep the silence for 1 second, adjustable as well\n",
    "        keep_silence=500,\n",
    "    )\n",
    "    folder_name = \"audio-chunks\"\n",
    "    # create a directory to store the audio chunks\n",
    "    if not os.path.isdir(folder_name):\n",
    "        os.mkdir(folder_name)\n",
    "    whole_text = \"\"\n",
    "    # process each chunk \n",
    "    for i, audio_chunk in enumerate(chunks, start=1):\n",
    "        # export audio chunk and save it in\n",
    "        # the `folder_name` directory.\n",
    "        chunk_filename = os.path.join(folder_name, f\"chunk{i}.wav\")\n",
    "        audio_chunk.export(chunk_filename, format=\"wav\")\n",
    "        # recognize the chunk\n",
    "        with sr.AudioFile(chunk_filename) as source:\n",
    "            audio_listened = r.record(source)\n",
    "            # try converting it to text\n",
    "            try:\n",
    "                text = r.recognize_google(audio_listened)\n",
    "            except sr.UnknownValueError as e:\n",
    "                print(\"Error:\", str(e))\n",
    "            else:\n",
    "                text = f\"{text.capitalize()}. \"\n",
    "                print(chunk_filename, \":\", text)\n",
    "                whole_text += text\n",
    "    # return the text for all chunks detected\n",
    "    return whole_text\n",
    "\n",
    "\n",
    "     \n"
   ]
  },
  {
   "cell_type": "code",
   "execution_count": 6,
   "id": "3551e5e6",
   "metadata": {},
   "outputs": [
    {
     "name": "stdout",
     "output_type": "stream",
     "text": [
      "result2:\n",
      "{   'alternative': [   {   'confidence': 0.66706896,\n",
      "                           'transcript': 'Tu Hi Tu Hai Saari Duniya Tu Hi'},\n",
      "                       {'transcript': 'Tu Hi Tu Hai Saari Duniya Tu Hai'},\n",
      "                       {'transcript': 'Tu Hi Tu Hai Saari Duniya To Hai'},\n",
      "                       {'transcript': 'Tu Hi To Hai Saari Duniya To Hai'},\n",
      "                       {'transcript': 'Tu Hi Tu Hai Sari Duniya Tu Hai'}],\n",
      "    'final': True}\n",
      "audio-chunks\\chunk1.wav : Tu hi tu hai saari duniya tu hi. \n",
      "result2:\n",
      "{   'alternative': [   {   'confidence': 0.88843769,\n",
      "                           'transcript': 'Tere Dar Pe Jhuke Mera Sar Tere Dar '\n",
      "                                         'Pe Jhuke Mera Sar hai yahi Aarzoo '\n",
      "                                         'Allah Allah Allah Mein Hi '\n",
      "                                         'tajdar-e-haram Aane per hai unki '\n",
      "                                         'Nazre Karam Mujh Par Rehmat e Do '\n",
      "                                         'Jahan mujtaba Bhola ji ke buriya '\n",
      "                                         'mein mein hun Hai Tujh Mein Main Hun '\n",
      "                                         'Chhupa aur hai aur hai Mujhme Tum'},\n",
      "                       {   'transcript': 'Tere Dar Pe Jhuke Mera Sar Tere Dar '\n",
      "                                         'Pe Jhuke Mera Sar hai yahi Aarzoo '\n",
      "                                         'Allah Allah Allah Mein Hi '\n",
      "                                         'tajdar-e-haram Aane per hai unki '\n",
      "                                         'Nazre Karam Mujh Par Rehmat e Do '\n",
      "                                         'Jahan mujtaba Bhola ji ke buriya '\n",
      "                                         'mein mein hun Hai Tujh Mein Main Hun '\n",
      "                                         'Chhupa Aur Hai Aur Hai Mujh Mein '\n",
      "                                         'Tum'},\n",
      "                       {   'transcript': 'Tere Dar Pe Jhuke Mera Sar Tere Dar '\n",
      "                                         'Pe Jhuke Mera Sar hai yahi Aarzoo '\n",
      "                                         'Allah Allah Allah Mein Hi '\n",
      "                                         'tajdar-e-haram Aane per hai unki '\n",
      "                                         'Nazre Karam Mujh Par Rehmat e Do '\n",
      "                                         'Jahan mujtaba Bhola ji ke buriya '\n",
      "                                         'mein mein hun Hai Tujh Mein Main Hun '\n",
      "                                         'Chhupa Aur Hai Aur Hai Mujh Mein '\n",
      "                                         'Tumko'},\n",
      "                       {   'transcript': 'Tere Dar Pe Jhuke Mera Sar Tere Dar '\n",
      "                                         'Pe Jhuke Mera Sar hai yahi Aarzoo '\n",
      "                                         'Allah Allah Allah Mein Hi '\n",
      "                                         'tajdar-e-haram Aane per hai unki '\n",
      "                                         'Nazre Karam Mujh Par Rehmat e Do '\n",
      "                                         'Jahan mujtaba Bhola ji ke buriya '\n",
      "                                         'mein mein hun Hai Tujh Mein Main Hun '\n",
      "                                         'Chhupa Hi Hai Mujh Mein Tum'},\n",
      "                       {   'transcript': 'Tere Dar Pe Jhuke Mera Sar Tere Dar '\n",
      "                                         'Pe Jhuke Mera Sar hai yahi Aarzoo '\n",
      "                                         'Allah Allah Allah Mein Hi '\n",
      "                                         'tajdar-e-haram Aane per hai unki '\n",
      "                                         'Nazre Karam Mujh Par Rehmat e Do '\n",
      "                                         'Jahan mujtaba Bhola ji ke buriya '\n",
      "                                         'mein mein hun Hai Tujh Mein Main Hun '\n",
      "                                         'Chhupa aur hai aur hai Mujhme '\n",
      "                                         'Tumko'}],\n",
      "    'final': True}\n",
      "audio-chunks\\chunk2.wav : Tere dar pe jhuke mera sar tere dar pe jhuke mera sar hai yahi aarzoo allah allah allah mein hi tajdar-e-haram aane per hai unki nazre karam mujh par rehmat e do jahan mujtaba bhola ji ke buriya mein mein hun hai tujh mein main hun chhupa aur hai aur hai mujhme tum. \n"
     ]
    }
   ],
   "source": [
    "text = get_large_audio_transcription(r\"D:\\PYTHON\\python2\\NLP_file.wav\")"
   ]
  },
  {
   "cell_type": "code",
   "execution_count": null,
   "id": "0c032cf1",
   "metadata": {},
   "outputs": [],
   "source": []
  }
 ],
 "metadata": {
  "kernelspec": {
   "display_name": "Python 3 (ipykernel)",
   "language": "python",
   "name": "python3"
  },
  "language_info": {
   "codemirror_mode": {
    "name": "ipython",
    "version": 3
   },
   "file_extension": ".py",
   "mimetype": "text/x-python",
   "name": "python",
   "nbconvert_exporter": "python",
   "pygments_lexer": "ipython3",
   "version": "3.9.13"
  }
 },
 "nbformat": 4,
 "nbformat_minor": 5
}
